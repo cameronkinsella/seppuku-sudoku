{
 "cells": [
  {
   "cell_type": "markdown",
   "metadata": {},
   "source": [
    "# Digit Recognition Model Trainer\n",
    "\n",
    "A convolutional neural network for identifying the digits 1-9. Used for recognizing the numbers in games of sudoku. <br/>\n",
    "(Zero was excluded since it is not used in sudoku)\n",
    "\n",
    "* Author: Cameron Kinsella\n",
    "* Dataset: MNIST\n",
    "* Framework: PyTorch"
   ]
  },
  {
   "cell_type": "markdown",
   "metadata": {},
   "source": [
    "---\n",
    "## Building the Model"
   ]
  },
  {
   "cell_type": "markdown",
   "metadata": {
    "pycharm": {
     "name": "#%% md\n"
    }
   },
   "source": [
    "### Imports and constants"
   ]
  },
  {
   "cell_type": "code",
   "execution_count": 1,
   "metadata": {
    "pycharm": {
     "is_executing": false,
     "name": "#%%\n"
    }
   },
   "outputs": [],
   "source": [
    "import numpy as np\n",
    "import matplotlib.pyplot as plt\n",
    "import torch\n",
    "\n",
    "from torch import nn, optim\n",
    "from torch.utils.data import DataLoader\n",
    "from torch.utils.data.sampler import SubsetRandomSampler\n",
    "from torchvision import datasets, transforms\n",
    "\n",
    "epochs = 5\n",
    "learning_rate = 0.01\n",
    "momentum = 0.5\n",
    "hidden = [32, 64]"
   ]
  },
  {
   "cell_type": "markdown",
   "metadata": {
    "pycharm": {
     "name": "#%% md\n"
    }
   },
   "source": [
    "### Setting up the Dataset"
   ]
  },
  {
   "cell_type": "code",
   "execution_count": 2,
   "metadata": {
    "pycharm": {
     "is_executing": false,
     "name": "#%%\n"
    }
   },
   "outputs": [],
   "source": [
    "transform = transforms.Compose([transforms.ToTensor(),\n",
    "                                transforms.Normalize((0.5,), (0.5,))])\n",
    "    \n",
    "train_data = datasets.MNIST('dataset/', train=True, download=True,\n",
    "                            transform=transform)\n",
    "\n",
    "test_data = datasets.MNIST('dataset/', train=False, download=True,\n",
    "                           transform=transform)"
   ]
  },
  {
   "cell_type": "code",
   "execution_count": 3,
   "metadata": {
    "pycharm": {
     "is_executing": false,
     "name": "#%%\n"
    }
   },
   "outputs": [],
   "source": [
    "def get_indices(dataset, class_name):\n",
    "    indices =  []\n",
    "    for i in range(len(dataset.targets)):\n",
    "        if dataset.targets[i] != class_name:\n",
    "            indices.append(i)\n",
    "    return indices\n",
    "\n",
    "train_idx = get_indices(train_data, 0)\n",
    "test_idx = get_indices(test_data, 0)\n",
    "\n",
    "train_loader = DataLoader(train_data,\n",
    "                          batch_size=64,\n",
    "                          sampler=SubsetRandomSampler(train_idx))\n",
    "\n",
    "test_loader = DataLoader(test_data,\n",
    "                         batch_size=1000,\n",
    "                         sampler=SubsetRandomSampler(test_idx))"
   ]
  },
  {
   "cell_type": "markdown",
   "metadata": {
    "pycharm": {
     "is_executing": false,
     "name": "#%% md\n"
    }
   },
   "source": [
    "### Defining the Neural Network"
   ]
  },
  {
   "cell_type": "code",
   "execution_count": 4,
   "metadata": {
    "pycharm": {
     "is_executing": false,
     "name": "#%%\n"
    }
   },
   "outputs": [],
   "source": [
    "class Net(nn.Module):\n",
    "    def __init__(self):\n",
    "        super(Net, self).__init__()\n",
    "        self.layer1 = nn.Sequential(\n",
    "            nn.Conv2d(1, hidden[0], kernel_size=5, padding=2),\n",
    "            nn.ReLU(),\n",
    "            nn.MaxPool2d(kernel_size=2))\n",
    "        self.layer2 = nn.Sequential(\n",
    "            nn.Conv2d(hidden[0], hidden[1], kernel_size=5, padding=2),\n",
    "            nn.ReLU(),\n",
    "            nn.MaxPool2d(kernel_size=2))\n",
    "        self.dropout = nn.Dropout()\n",
    "        self.fc1 = nn.Linear(7 * 7 * hidden[1], 1000)\n",
    "        self.fc2 = nn.Linear(1000, 10)\n",
    "        self.softmax = nn.LogSoftmax(dim=1)\n",
    "        \n",
    "    def forward(self, x):\n",
    "        out = self.layer1(x)\n",
    "        out = self.layer2(out)\n",
    "        out = out.reshape(out.size(0), -1)\n",
    "        out = self.dropout(out)\n",
    "        out = self.fc1(out)\n",
    "        out = self.fc2(out)\n",
    "        out = self.softmax(out)\n",
    "        \n",
    "        return out\n",
    "    \n",
    "model = Net()"
   ]
  },
  {
   "cell_type": "code",
   "execution_count": 5,
   "metadata": {
    "pycharm": {
     "is_executing": false,
     "name": "#%%\n"
    }
   },
   "outputs": [
    {
     "name": "stdout",
     "text": [
      "cuda\n"
     ],
     "output_type": "stream"
    }
   ],
   "source": [
    "# Selecting the device (GPU if available)\n",
    "device = torch.device('cuda' if torch.cuda.is_available() else 'cpu')\n",
    "model.to(device)\n",
    "print(device)"
   ]
  },
  {
   "cell_type": "markdown",
   "metadata": {},
   "source": [
    "---\n",
    "## Training the Model"
   ]
  },
  {
   "cell_type": "code",
   "execution_count": 6,
   "metadata": {
    "pycharm": {
     "is_executing": false,
     "name": "#%%\n"
    }
   },
   "outputs": [],
   "source": [
    "train_losses = []\n",
    "train_counter = []\n",
    "test_losses = []\n",
    "test_counter = [i * len(train_loader.dataset) for i in range(epochs + 1)]"
   ]
  },
  {
   "cell_type": "markdown",
   "metadata": {},
   "source": [
    "### Model Trainer Function"
   ]
  },
  {
   "cell_type": "code",
   "execution_count": 7,
   "metadata": {
    "pycharm": {
     "is_executing": false,
     "name": "#%%\n"
    }
   },
   "outputs": [],
   "source": [
    "criterion = nn.CrossEntropyLoss()\n",
    "optimizer = optim.SGD(model.parameters(), lr=learning_rate, momentum=momentum)\n",
    "def train(epoch_n):\n",
    "    running_loss = 0\n",
    "    for idx, (images, labels) in enumerate(train_loader):\n",
    "        # Flatten images\n",
    "       \n",
    "        \n",
    "        # Clear gradients\n",
    "        optimizer.zero_grad()\n",
    "        \n",
    "        # Get loss\n",
    "        output = model(images.to(device))\n",
    "        loss = criterion(output, labels.to(device))\n",
    "        \n",
    "        # Backpropogate\n",
    "        loss.backward()\n",
    "        \n",
    "        # Update weights\n",
    "        optimizer.step()\n",
    "        \n",
    "        running_loss += loss.item()\n",
    "        \n",
    "        # append data every 10 mini-batches, print every 100 mini-batches\n",
    "        if idx % 10 == 0:\n",
    "            train_losses.append(loss.item())\n",
    "            train_counter.append((idx*64) + ((epoch-1)*len(train_loader.dataset)))\n",
    "            \n",
    "        if idx % 100 == 0:\n",
    "            print('Epoch {} -> [{}/{} ({:.0f}%)] Loss: {:.6}'.format(\n",
    "            epoch_n, idx * len(images.to(device)), len(train_loader.dataset),\n",
    "            100. * idx / len(train_loader), running_loss/len(train_loader)))\n",
    "    else :\n",
    "        print('\\nEpoch {} end:\\nLoss = {:.6}'.format(\n",
    "        epoch_n, running_loss/len(train_loader)))"
   ]
  },
  {
   "cell_type": "markdown",
   "metadata": {
    "pycharm": {
     "is_executing": false,
     "name": "#%% md\n"
    }
   },
   "source": [
    "### Model Tester Function"
   ]
  },
  {
   "cell_type": "code",
   "execution_count": 8,
   "metadata": {
    "pycharm": {
     "is_executing": false,
     "name": "#%%\n"
    }
   },
   "outputs": [],
   "source": [
    "def test():\n",
    "    correct, total, test_loss = 0, 0, 0\n",
    "    # Turn off gradients to speed it up \n",
    "    with torch.no_grad():\n",
    "        for images, labels in test_loader:\n",
    "            output = model(images.to(device))\n",
    "            \n",
    "            # Note: Outputs of the network are log-probabilities\n",
    "            # Checking answer\n",
    "            predicted_label = output.data.max(1, keepdim=True)[1]\n",
    "            correct += predicted_label.eq(labels.to(device).\n",
    "                                          data.view_as(predicted_label)).sum()\n",
    "            \n",
    "            test_loss += criterion(output, labels.to(device)).item()\n",
    "            \n",
    "        test_loss /= len(test_loader.dataset)\n",
    "        test_losses.append(test_loss)\n",
    "    \n",
    "        print('Images Tested =', len(test_idx))\n",
    "        print('Accuracy = {:.2f}%\\n'.format(100. * correct/len(test_idx)))"
   ]
  },
  {
   "cell_type": "markdown",
   "metadata": {},
   "source": [
    "### Training and Testing the Model"
   ]
  },
  {
   "cell_type": "code",
   "execution_count": 9,
   "metadata": {
    "pycharm": {
     "is_executing": false,
     "name": "#%%\n"
    }
   },
   "outputs": [
    {
     "name": "stdout",
     "text": [
      "Images Tested = 9020\n",
      "Accuracy = 9.05%\n",
      "\n",
      "Epoch 1 -> [0/60000 (0%)] Loss: 0.00274673\n",
      "Epoch 1 -> [6400/60000 (12%)] Loss: 0.207912\n",
      "Epoch 1 -> [12800/60000 (24%)] Loss: 0.27519\n",
      "Epoch 1 -> [19200/60000 (36%)] Loss: 0.319063\n",
      "Epoch 1 -> [25600/60000 (47%)] Loss: 0.352785\n",
      "Epoch 1 -> [32000/60000 (59%)] Loss: 0.380412\n",
      "Epoch 1 -> [38400/60000 (71%)] Loss: 0.404441\n",
      "Epoch 1 -> [44800/60000 (83%)] Loss: 0.42562\n",
      "Epoch 1 -> [51200/60000 (95%)] Loss: 0.443774\n",
      "\n",
      "Epoch 1 end:\n",
      "Loss = 0.451801\n",
      "Images Tested = 9020\n",
      "Accuracy = 95.70%\n",
      "\n",
      "Epoch 2 -> [0/60000 (0%)] Loss: 0.000195885\n",
      "Epoch 2 -> [6400/60000 (12%)] Loss: 0.0181433\n",
      "Epoch 2 -> [12800/60000 (24%)] Loss: 0.0350278\n",
      "Epoch 2 -> [19200/60000 (36%)] Loss: 0.051034\n",
      "Epoch 2 -> [25600/60000 (47%)] Loss: 0.065666\n",
      "Epoch 2 -> [32000/60000 (59%)] Loss: 0.0792681\n",
      "Epoch 2 -> [38400/60000 (71%)] Loss: 0.093045\n",
      "Epoch 2 -> [44800/60000 (83%)] Loss: 0.106139\n",
      "Epoch 2 -> [51200/60000 (95%)] Loss: 0.118475\n",
      "\n",
      "Epoch 2 end:\n",
      "Loss = 0.12381\n",
      "Images Tested = 9020\n",
      "Accuracy = 97.15%\n",
      "\n",
      "Epoch 3 -> [0/60000 (0%)] Loss: 6.56434e-05\n",
      "Epoch 3 -> [6400/60000 (12%)] Loss: 0.0120931\n",
      "Epoch 3 -> [12800/60000 (24%)] Loss: 0.022693\n",
      "Epoch 3 -> [19200/60000 (36%)] Loss: 0.0338195\n",
      "Epoch 3 -> [25600/60000 (47%)] Loss: 0.0444492\n",
      "Epoch 3 -> [32000/60000 (59%)] Loss: 0.0557093\n",
      "Epoch 3 -> [38400/60000 (71%)] Loss: 0.0658263\n",
      "Epoch 3 -> [44800/60000 (83%)] Loss: 0.0756184\n",
      "Epoch 3 -> [51200/60000 (95%)] Loss: 0.0851772\n",
      "\n",
      "Epoch 3 end:\n",
      "Loss = 0.0894076\n",
      "Images Tested = 9020\n",
      "Accuracy = 97.75%\n",
      "\n",
      "Epoch 4 -> [0/60000 (0%)] Loss: 4.23358e-05\n",
      "Epoch 4 -> [6400/60000 (12%)] Loss: 0.00918352\n",
      "Epoch 4 -> [12800/60000 (24%)] Loss: 0.0184903\n",
      "Epoch 4 -> [19200/60000 (36%)] Loss: 0.0286923\n",
      "Epoch 4 -> [25600/60000 (47%)] Loss: 0.0364404\n",
      "Epoch 4 -> [32000/60000 (59%)] Loss: 0.0446496\n",
      "Epoch 4 -> [38400/60000 (71%)] Loss: 0.0536132\n",
      "Epoch 4 -> [44800/60000 (83%)] Loss: 0.0624997\n",
      "Epoch 4 -> [51200/60000 (95%)] Loss: 0.0714401\n",
      "\n",
      "Epoch 4 end:\n",
      "Loss = 0.0754465\n",
      "Images Tested = 9020\n",
      "Accuracy = 98.05%\n",
      "\n",
      "Epoch 5 -> [0/60000 (0%)] Loss: 2.311e-05\n",
      "Epoch 5 -> [6400/60000 (12%)] Loss: 0.00780445\n",
      "Epoch 5 -> [12800/60000 (24%)] Loss: 0.0152829\n",
      "Epoch 5 -> [19200/60000 (36%)] Loss: 0.0238249\n",
      "Epoch 5 -> [25600/60000 (47%)] Loss: 0.0316155\n",
      "Epoch 5 -> [32000/60000 (59%)] Loss: 0.0390025\n",
      "Epoch 5 -> [38400/60000 (71%)] Loss: 0.0467939\n",
      "Epoch 5 -> [44800/60000 (83%)] Loss: 0.0545874\n",
      "Epoch 5 -> [51200/60000 (95%)] Loss: 0.0616162\n",
      "\n",
      "Epoch 5 end:\n",
      "Loss = 0.0653412\n",
      "Images Tested = 9020\n",
      "Accuracy = 98.29%\n",
      "\n"
     ],
     "output_type": "stream"
    }
   ],
   "source": [
    "test()\n",
    "for epoch in range(1, epochs + 1):\n",
    "  train(epoch)\n",
    "  test()"
   ]
  },
  {
   "cell_type": "code",
   "execution_count": 10,
   "metadata": {
    "pycharm": {
     "is_executing": false,
     "name": "#%%\n"
    }
   },
   "outputs": [],
   "source": [
    "# Saving the final model\n",
    "torch.save(model.state_dict(), './results/model.pth')\n",
    "\n",
    "# Uncomment this to save optimizer (probably unnecessary)\n",
    "# torch.save(optimizer.state_dict(), './results/optimizer.pth') "
   ]
  },
  {
   "cell_type": "markdown",
   "metadata": {},
   "source": [
    "---\n",
    "## Evaluating the Model"
   ]
  },
  {
   "cell_type": "code",
   "execution_count": 11,
   "metadata": {
    "pycharm": {
     "is_executing": false,
     "name": "#%%\n"
    }
   },
   "outputs": [],
   "source": [
    "# Function for creating a training plot\n",
    "def view_figure():\n",
    "    plt.figure(figsize=(10,5))\n",
    "    plt.plot(train_counter, train_losses, color='blue')\n",
    "    plt.scatter(test_counter, test_losses, color='red')\n",
    "    plt.legend(['Train Loss', 'Test Loss'], loc='upper right')\n",
    "    plt.xlabel('number of training examples seen')\n",
    "    plt.ylabel('negative log likelihood loss')"
   ]
  },
  {
   "cell_type": "code",
   "execution_count": 12,
   "metadata": {
    "pycharm": {
     "is_executing": false,
     "name": "#%%\n"
    }
   },
   "outputs": [],
   "source": [
    "# Figure template for view_prediction data\n",
    "def prediction_figure(img, ps, pred):\n",
    "    ps = ps.cpu().data.numpy().squeeze()\n",
    "        \n",
    "    fig, (ax1, ax2) = plt.subplots(figsize=(6,9), ncols=2)\n",
    "    ax1.set_title('Predicted Digit = {}'.format(str(pred)))\n",
    "    ax1.imshow(img.resize_(1, 28, 28).numpy().squeeze(), cmap='gray_r')\n",
    "    ax1.axis('off')\n",
    "    ax2.bar(np.arange(10), ps[0])\n",
    "    ax2.set_aspect(9)\n",
    "    ax2.set_xticks(np.arange(1, 10))\n",
    "    ax2.set_xticklabels(np.arange(1, 10))\n",
    "    ax2.set_xlim(xmin=0)\n",
    "    ax2.set_title('Class Probability')\n",
    "    ax2.set_ylim(0, 1.1)\n",
    "    plt.tight_layout()"
   ]
  },
  {
   "cell_type": "code",
   "execution_count": 13,
   "metadata": {
    "pycharm": {
     "is_executing": false,
     "name": "#%%\n"
    }
   },
   "outputs": [],
   "source": [
    "# Function for viewing an example image and prediction\n",
    "def view_prediction():\n",
    "    images, labels = next(iter(test_loader))\n",
    "    \n",
    "    # Turn off gradients to speed up this part\n",
    "    with torch.no_grad():\n",
    "        output = model(images.to(device))\n",
    "    \n",
    "    ps = torch.exp(output)\n",
    "    probability = list(output.cpu().numpy()[0])\n",
    "    prediction_figure(images, ps, probability.index(max(probability)))"
   ]
  },
  {
   "cell_type": "code",
   "execution_count": 14,
   "metadata": {
    "pycharm": {
     "is_executing": false,
     "name": "#%%\n"
    }
   },
   "outputs": [
    {
     "data": {
      "text/plain": "<Figure size 720x360 with 1 Axes>",
      "image/png": "[encoded data removed]"
     },
     "metadata": {
      "needs_background": "light"
     },
     "output_type": "display_data"
    },
    {
     "data": {
      "text/plain": "<Figure size 432x648 with 2 Axes>",
      "image/png": "[encoded data removed]"
     },
     "metadata": {
      "needs_background": "light"
     },
     "output_type": "display_data"
    },
    {
     "data": {
      "text/plain": "<Figure size 432x648 with 2 Axes>",
      "image/png": "[encoded data removed]"
     },
     "metadata": {
      "needs_background": "light"
     },
     "output_type": "display_data"
    },
    {
     "data": {
      "text/plain": "<Figure size 432x648 with 2 Axes>",
      "image/png": "[encoded data removed]"
     },
     "metadata": {
      "needs_background": "light"
     },
     "output_type": "display_data"
    }
   ],
   "source": [
    "view_figure()\n",
    "for i in range(3):\n",
    "    view_prediction()"
   ]
  }
 ],
 "metadata": {
  "kernelspec": {
   "display_name": "Python 3",
   "language": "python",
   "name": "python3"
  },
  "language_info": {
   "codemirror_mode": {
    "name": "ipython",
    "version": 3
   },
   "file_extension": ".py",
   "mimetype": "text/x-python",
   "name": "python",
   "nbconvert_exporter": "python",
   "pygments_lexer": "ipython3",
   "version": "3.7.6"
  },
  "pycharm": {
   "stem_cell": {
    "cell_type": "raw",
    "source": [],
    "metadata": {
     "collapsed": false
    }
   }
  }
 },
 "nbformat": 4,
 "nbformat_minor": 1
}